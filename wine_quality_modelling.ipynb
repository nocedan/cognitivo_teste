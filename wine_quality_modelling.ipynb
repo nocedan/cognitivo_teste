{
 "cells": [
  {
   "cell_type": "markdown",
   "metadata": {},
   "source": [
    "## Wine quality modelling"
   ]
  },
  {
   "cell_type": "code",
   "execution_count": 1,
   "metadata": {},
   "outputs": [],
   "source": [
    "import pandas as pd\n",
    "import numpy as np\n",
    "from sklearn import linear_model\n",
    "import matplotlib.pyplot as plt\n",
    "%matplotlib inline"
   ]
  },
  {
   "cell_type": "code",
   "execution_count": 2,
   "metadata": {},
   "outputs": [],
   "source": [
    "df= pd.read_pickle('df_preprocessed.pkl')\n",
    "\n",
    "model_features= ['density_t', 'is_red', 'fixed_acidity',\n",
    "                 'volatile_acidity', 'citric_acid', 'residual_sugar',\n",
    "                 'chlorides','free_sulfur_dioxide', 'total_sulfur_dioxide',\n",
    "                 'pH', 'sulphates','alcohol']\n",
    "\n",
    "output = 'quality'"
   ]
  },
  {
   "cell_type": "markdown",
   "metadata": {},
   "source": [
    "### Sample with few instances at edges 3, 4, 8, 9"
   ]
  },
  {
   "cell_type": "code",
   "execution_count": 3,
   "metadata": {},
   "outputs": [
    {
     "data": {
      "image/png": "[encoded data removed]",
      "text/plain": [
       "<Figure size 432x288 with 1 Axes>"
      ]
     },
     "metadata": {},
     "output_type": "display_data"
    }
   ],
   "source": [
    "df[['quality','is_red']].groupby(output).count().plot(subplots =True, title = \"'quality' distribution\")\n",
    "plt.show()"
   ]
  },
  {
   "cell_type": "code",
   "execution_count": 4,
   "metadata": {},
   "outputs": [
    {
     "data": {
      "text/plain": [
       "quality\n",
       "3      30\n",
       "4     216\n",
       "5    2138\n",
       "6    2836\n",
       "7    1079\n",
       "8     193\n",
       "9       5\n",
       "Name: is_red, dtype: int64"
      ]
     },
     "execution_count": 4,
     "metadata": {},
     "output_type": "execute_result"
    }
   ],
   "source": [
    "# inbalanced sample, to few observations at 3,9\n",
    "df.groupby(output).is_red.count()"
   ]
  },
  {
   "cell_type": "code",
   "execution_count": 5,
   "metadata": {},
   "outputs": [
    {
     "data": {
      "text/html": [
       "<div>\n",
       "<style scoped>\n",
       "    .dataframe tbody tr th:only-of-type {\n",
       "        vertical-align: middle;\n",
       "    }\n",
       "\n",
       "    .dataframe tbody tr th {\n",
       "        vertical-align: top;\n",
       "    }\n",
       "\n",
       "    .dataframe thead th {\n",
       "        text-align: right;\n",
       "    }\n",
       "</style>\n",
       "<table border=\"1\" class=\"dataframe\">\n",
       "  <thead>\n",
       "    <tr style=\"text-align: right;\">\n",
       "      <th></th>\n",
       "      <th>density_t</th>\n",
       "      <th>is_red</th>\n",
       "      <th>fixed_acidity</th>\n",
       "      <th>volatile_acidity</th>\n",
       "      <th>citric_acid</th>\n",
       "      <th>residual_sugar</th>\n",
       "      <th>chlorides</th>\n",
       "      <th>free_sulfur_dioxide</th>\n",
       "      <th>total_sulfur_dioxide</th>\n",
       "      <th>pH</th>\n",
       "      <th>sulphates</th>\n",
       "      <th>alcohol</th>\n",
       "    </tr>\n",
       "  </thead>\n",
       "  <tbody>\n",
       "    <tr>\n",
       "      <th>density_t</th>\n",
       "      <td>1.000000</td>\n",
       "      <td>-0.070816</td>\n",
       "      <td>-0.269153</td>\n",
       "      <td>-0.029593</td>\n",
       "      <td>-0.121701</td>\n",
       "      <td>-0.182887</td>\n",
       "      <td>-0.065977</td>\n",
       "      <td>-0.003742</td>\n",
       "      <td>-0.011442</td>\n",
       "      <td>0.050796</td>\n",
       "      <td>-0.093319</td>\n",
       "      <td>0.096052</td>\n",
       "    </tr>\n",
       "    <tr>\n",
       "      <th>is_red</th>\n",
       "      <td>-0.070816</td>\n",
       "      <td>1.000000</td>\n",
       "      <td>0.486740</td>\n",
       "      <td>0.653036</td>\n",
       "      <td>-0.187397</td>\n",
       "      <td>-0.348821</td>\n",
       "      <td>0.512678</td>\n",
       "      <td>-0.471644</td>\n",
       "      <td>-0.700357</td>\n",
       "      <td>0.329129</td>\n",
       "      <td>0.487218</td>\n",
       "      <td>-0.033384</td>\n",
       "    </tr>\n",
       "    <tr>\n",
       "      <th>fixed_acidity</th>\n",
       "      <td>-0.269153</td>\n",
       "      <td>0.486740</td>\n",
       "      <td>1.000000</td>\n",
       "      <td>0.219008</td>\n",
       "      <td>0.324436</td>\n",
       "      <td>-0.111981</td>\n",
       "      <td>0.298195</td>\n",
       "      <td>-0.282735</td>\n",
       "      <td>-0.329054</td>\n",
       "      <td>-0.252700</td>\n",
       "      <td>0.299568</td>\n",
       "      <td>-0.095555</td>\n",
       "    </tr>\n",
       "    <tr>\n",
       "      <th>volatile_acidity</th>\n",
       "      <td>-0.029593</td>\n",
       "      <td>0.653036</td>\n",
       "      <td>0.219008</td>\n",
       "      <td>1.000000</td>\n",
       "      <td>-0.377981</td>\n",
       "      <td>-0.196011</td>\n",
       "      <td>0.377124</td>\n",
       "      <td>-0.352557</td>\n",
       "      <td>-0.414476</td>\n",
       "      <td>0.261454</td>\n",
       "      <td>0.225984</td>\n",
       "      <td>-0.037715</td>\n",
       "    </tr>\n",
       "    <tr>\n",
       "      <th>citric_acid</th>\n",
       "      <td>-0.121701</td>\n",
       "      <td>-0.187397</td>\n",
       "      <td>0.324436</td>\n",
       "      <td>-0.377981</td>\n",
       "      <td>1.000000</td>\n",
       "      <td>0.142451</td>\n",
       "      <td>0.038998</td>\n",
       "      <td>0.133126</td>\n",
       "      <td>0.195242</td>\n",
       "      <td>-0.329808</td>\n",
       "      <td>0.056197</td>\n",
       "      <td>-0.009987</td>\n",
       "    </tr>\n",
       "    <tr>\n",
       "      <th>residual_sugar</th>\n",
       "      <td>-0.182887</td>\n",
       "      <td>-0.348821</td>\n",
       "      <td>-0.111981</td>\n",
       "      <td>-0.196011</td>\n",
       "      <td>0.142451</td>\n",
       "      <td>1.000000</td>\n",
       "      <td>-0.128940</td>\n",
       "      <td>0.402871</td>\n",
       "      <td>0.495482</td>\n",
       "      <td>-0.267320</td>\n",
       "      <td>-0.185927</td>\n",
       "      <td>-0.359245</td>\n",
       "    </tr>\n",
       "    <tr>\n",
       "      <th>chlorides</th>\n",
       "      <td>-0.065977</td>\n",
       "      <td>0.512678</td>\n",
       "      <td>0.298195</td>\n",
       "      <td>0.377124</td>\n",
       "      <td>0.038998</td>\n",
       "      <td>-0.128940</td>\n",
       "      <td>1.000000</td>\n",
       "      <td>-0.195045</td>\n",
       "      <td>-0.279630</td>\n",
       "      <td>0.044708</td>\n",
       "      <td>0.395593</td>\n",
       "      <td>-0.257136</td>\n",
       "    </tr>\n",
       "    <tr>\n",
       "      <th>free_sulfur_dioxide</th>\n",
       "      <td>-0.003742</td>\n",
       "      <td>-0.471644</td>\n",
       "      <td>-0.282735</td>\n",
       "      <td>-0.352557</td>\n",
       "      <td>0.133126</td>\n",
       "      <td>0.402871</td>\n",
       "      <td>-0.195045</td>\n",
       "      <td>1.000000</td>\n",
       "      <td>0.720934</td>\n",
       "      <td>-0.145854</td>\n",
       "      <td>-0.188457</td>\n",
       "      <td>-0.179435</td>\n",
       "    </tr>\n",
       "    <tr>\n",
       "      <th>total_sulfur_dioxide</th>\n",
       "      <td>-0.011442</td>\n",
       "      <td>-0.700357</td>\n",
       "      <td>-0.329054</td>\n",
       "      <td>-0.414476</td>\n",
       "      <td>0.195242</td>\n",
       "      <td>0.495482</td>\n",
       "      <td>-0.279630</td>\n",
       "      <td>0.720934</td>\n",
       "      <td>1.000000</td>\n",
       "      <td>-0.238413</td>\n",
       "      <td>-0.275727</td>\n",
       "      <td>-0.265550</td>\n",
       "    </tr>\n",
       "    <tr>\n",
       "      <th>pH</th>\n",
       "      <td>0.050796</td>\n",
       "      <td>0.329129</td>\n",
       "      <td>-0.252700</td>\n",
       "      <td>0.261454</td>\n",
       "      <td>-0.329808</td>\n",
       "      <td>-0.267320</td>\n",
       "      <td>0.044708</td>\n",
       "      <td>-0.145854</td>\n",
       "      <td>-0.238413</td>\n",
       "      <td>1.000000</td>\n",
       "      <td>0.192123</td>\n",
       "      <td>0.121139</td>\n",
       "    </tr>\n",
       "    <tr>\n",
       "      <th>sulphates</th>\n",
       "      <td>-0.093319</td>\n",
       "      <td>0.487218</td>\n",
       "      <td>0.299568</td>\n",
       "      <td>0.225984</td>\n",
       "      <td>0.056197</td>\n",
       "      <td>-0.185927</td>\n",
       "      <td>0.395593</td>\n",
       "      <td>-0.188457</td>\n",
       "      <td>-0.275727</td>\n",
       "      <td>0.192123</td>\n",
       "      <td>1.000000</td>\n",
       "      <td>-0.003535</td>\n",
       "    </tr>\n",
       "    <tr>\n",
       "      <th>alcohol</th>\n",
       "      <td>0.096052</td>\n",
       "      <td>-0.033384</td>\n",
       "      <td>-0.095555</td>\n",
       "      <td>-0.037715</td>\n",
       "      <td>-0.009987</td>\n",
       "      <td>-0.359245</td>\n",
       "      <td>-0.257136</td>\n",
       "      <td>-0.179435</td>\n",
       "      <td>-0.265550</td>\n",
       "      <td>0.121139</td>\n",
       "      <td>-0.003535</td>\n",
       "      <td>1.000000</td>\n",
       "    </tr>\n",
       "  </tbody>\n",
       "</table>\n",
       "</div>"
      ],
      "text/plain": [
       "                      density_t    is_red  fixed_acidity  volatile_acidity  \\\n",
       "density_t              1.000000 -0.070816      -0.269153         -0.029593   \n",
       "is_red                -0.070816  1.000000       0.486740          0.653036   \n",
       "fixed_acidity         -0.269153  0.486740       1.000000          0.219008   \n",
       "volatile_acidity      -0.029593  0.653036       0.219008          1.000000   \n",
       "citric_acid           -0.121701 -0.187397       0.324436         -0.377981   \n",
       "residual_sugar        -0.182887 -0.348821      -0.111981         -0.196011   \n",
       "chlorides             -0.065977  0.512678       0.298195          0.377124   \n",
       "free_sulfur_dioxide   -0.003742 -0.471644      -0.282735         -0.352557   \n",
       "total_sulfur_dioxide  -0.011442 -0.700357      -0.329054         -0.414476   \n",
       "pH                     0.050796  0.329129      -0.252700          0.261454   \n",
       "sulphates             -0.093319  0.487218       0.299568          0.225984   \n",
       "alcohol                0.096052 -0.033384      -0.095555         -0.037715   \n",
       "\n",
       "                      citric_acid  residual_sugar  chlorides  \\\n",
       "density_t               -0.121701       -0.182887  -0.065977   \n",
       "is_red                  -0.187397       -0.348821   0.512678   \n",
       "fixed_acidity            0.324436       -0.111981   0.298195   \n",
       "volatile_acidity        -0.377981       -0.196011   0.377124   \n",
       "citric_acid              1.000000        0.142451   0.038998   \n",
       "residual_sugar           0.142451        1.000000  -0.128940   \n",
       "chlorides                0.038998       -0.128940   1.000000   \n",
       "free_sulfur_dioxide      0.133126        0.402871  -0.195045   \n",
       "total_sulfur_dioxide     0.195242        0.495482  -0.279630   \n",
       "pH                      -0.329808       -0.267320   0.044708   \n",
       "sulphates                0.056197       -0.185927   0.395593   \n",
       "alcohol                 -0.009987       -0.359245  -0.257136   \n",
       "\n",
       "                      free_sulfur_dioxide  total_sulfur_dioxide        pH  \\\n",
       "density_t                       -0.003742             -0.011442  0.050796   \n",
       "is_red                          -0.471644             -0.700357  0.329129   \n",
       "fixed_acidity                   -0.282735             -0.329054 -0.252700   \n",
       "volatile_acidity                -0.352557             -0.414476  0.261454   \n",
       "citric_acid                      0.133126              0.195242 -0.329808   \n",
       "residual_sugar                   0.402871              0.495482 -0.267320   \n",
       "chlorides                       -0.195045             -0.279630  0.044708   \n",
       "free_sulfur_dioxide              1.000000              0.720934 -0.145854   \n",
       "total_sulfur_dioxide             0.720934              1.000000 -0.238413   \n",
       "pH                              -0.145854             -0.238413  1.000000   \n",
       "sulphates                       -0.188457             -0.275727  0.192123   \n",
       "alcohol                         -0.179435             -0.265550  0.121139   \n",
       "\n",
       "                      sulphates   alcohol  \n",
       "density_t             -0.093319  0.096052  \n",
       "is_red                 0.487218 -0.033384  \n",
       "fixed_acidity          0.299568 -0.095555  \n",
       "volatile_acidity       0.225984 -0.037715  \n",
       "citric_acid            0.056197 -0.009987  \n",
       "residual_sugar        -0.185927 -0.359245  \n",
       "chlorides              0.395593 -0.257136  \n",
       "free_sulfur_dioxide   -0.188457 -0.179435  \n",
       "total_sulfur_dioxide  -0.275727 -0.265550  \n",
       "pH                     0.192123  0.121139  \n",
       "sulphates              1.000000 -0.003535  \n",
       "alcohol               -0.003535  1.000000  "
      ]
     },
     "execution_count": 5,
     "metadata": {},
     "output_type": "execute_result"
    }
   ],
   "source": [
    "# just checking correlation of model features before baseline regression\n",
    "df[model_features].corr()"
   ]
  },
  {
   "cell_type": "markdown",
   "metadata": {},
   "source": [
    "### Some useful modules"
   ]
  },
  {
   "cell_type": "code",
   "execution_count": 6,
   "metadata": {},
   "outputs": [],
   "source": [
    "def weight(n, counts):\n",
    "    \"\"\"Returns the balancing weight for a certain category\"\"\"\n",
    "    categories = counts.count()\n",
    "    return 1/counts[n]/categories\n",
    "\n",
    "weight_vfunc = np.vectorize(weight, excluded=['counts'])\n",
    "\n",
    "def oversampling(df):\n",
    "    \"\"\"Transforms unbalanced sample into balanced by\n",
    "    oversampling less frequent categories\"\"\"\n",
    "    \n",
    "    size = 7\n",
    "    # Imbalanced sample, let's fix it by sampling    \n",
    "    weights_vector = weight_vfunc(df[output],counts= df[output].value_counts())\n",
    "    df_=df.sample(n=len(df)*size, frac=None, replace=True, weights=weights_vector, random_state=42)\n",
    "    return df_\n",
    "\n",
    "# Feature engeneering: interactions and high order terms\n",
    "from sklearn.preprocessing import PolynomialFeatures\n",
    "poly = PolynomialFeatures(interaction_only=False,degree=2)"
   ]
  },
  {
   "cell_type": "code",
   "execution_count": 7,
   "metadata": {},
   "outputs": [],
   "source": [
    "from sklearn import linear_model\n",
    "from sklearn import tree\n",
    "from sklearn import neighbors\n",
    "from sklearn.neural_network import MLPRegressor,MLPClassifier \n",
    "from sklearn.ensemble import GradientBoostingRegressor\n",
    "\n",
    "regressors ={\n",
    "    \"Linear\": linear_model.LinearRegression(),\n",
    "    \"Lasso\":linear_model.Lasso(alpha=0.3,max_iter=100000),\n",
    "    #\"KNN\": neighbors.KNeighborsRegressor(n_neighbors=30),\n",
    "    #\"DecisionTree\" : tree.DecisionTreeRegressor(max_depth=5),\n",
    "    #\"MLP\": MLPClassifier(hidden_layer_sizes=(200, 200,), activation='logistic',max_iter=100000)\n",
    "}"
   ]
  },
  {
   "cell_type": "code",
   "execution_count": 8,
   "metadata": {},
   "outputs": [
    {
     "name": "stdout",
     "output_type": "stream",
     "text": [
      "12\n"
     ]
    }
   ],
   "source": [
    "# Optimization Story\n",
    "\n",
    "# gradient boosting learning rate cross validation\n",
    "# Gradient Boosting 0.04 : 0.65 , 0.14, 1.21\n",
    "\n",
    "# gradient boosting max_depth cross validation\n",
    "# Gradient Boosting 6.00 : 0.55 , 0.28, 1.18\n",
    "# Gradient Boosting 8.00 : 0.48 , 0.37, 1.18\n",
    "# Gradient Boosting 10.00 : 0.43 , 0.43, 1.19\n",
    "# Gradient Boosting 12.00 : 0.41 , 0.47, 1.18*\n",
    "# Gradient Boosting 14.00 : 0.40 , 0.48, 1.20\n",
    "\n",
    "\n",
    "# gradient boosting alpha cross validation\n",
    "\n",
    "\n",
    "for rate in np.arange(12,14,2):\n",
    "    print(rate)\n",
    "    regressors[\"Gradient Boosting %.2f\" % (rate)] = GradientBoostingRegressor(loss='lad',\n",
    "                              learning_rate=0.04,\n",
    "                              n_estimators=100,\n",
    "                              subsample=1.0,\n",
    "                              criterion='friedman_mse',\n",
    "                              min_samples_split=2,\n",
    "                              min_samples_leaf=1,\n",
    "                              min_weight_fraction_leaf=0.0,\n",
    "                              max_depth=12, \n",
    "                              min_impurity_decrease=0.0,\n",
    "                              min_impurity_split=None,\n",
    "                              init=None,\n",
    "                              random_state=42,\n",
    "                              max_features=None,\n",
    "                              alpha=0.3)"
   ]
  },
  {
   "cell_type": "code",
   "execution_count": 9,
   "metadata": {},
   "outputs": [],
   "source": [
    "from sklearn.metrics import mean_squared_error, r2_score\n",
    "\n",
    "def performance_validation(y_pred, y_test, print_graph = True):\n",
    "    # The mean squared error\n",
    "    mean_square_error = mean_squared_error(y_test, y_pred)\n",
    "    variance_score = r2_score(y_test, y_pred)\n",
    "\n",
    "    df_measures = pd.DataFrame(\n",
    "        np.transpose(np.array([y_pred,y_test])), columns = [\"y_pred\",\"y_test\"])\n",
    "    df_measures=df_measures.assign(y_pred_round =lambda x: np.round(x.y_pred))\n",
    "    df_measures=df_measures.assign(y_pred_sqrt =lambda x: (x.y_pred -x.y_test)**2)\n",
    "    \n",
    "    rmse = np.sqrt(df_measures.groupby('y_test').y_pred_sqrt.mean())\n",
    "    print(\"Mean squared error, Variance Score, RMSE: %.2f %.2f %.2f\" \n",
    "          % (mean_square_error,variance_score,rmse.mean()))\n",
    "        \n",
    "    # quality at extremes\n",
    "    if print_graph == True:\n",
    "        fig, ax = plt.subplots(figsize=(15, 5))\n",
    "        plt.subplot(1,3,1)\n",
    "        plt.title(\"RMSE averaged: %.2f\"%(rmse.mean()))\n",
    "        plt.bar(rmse.index,rmse.values,width=0.5,color='b',align='center')\n",
    "        plt.subplot(1,3,2)\n",
    "        plt.title(\"distribution of output - validation\")\n",
    "        v=df_measures.groupby('y_test').y_pred.count()\n",
    "        plt.plot(v.index,v.values)\n",
    "        plt.subplot(1,3,3)\n",
    "        plt.title('average pedicted quality')\n",
    "        v =(df_measures.groupby('y_test').y_pred.mean())\n",
    "        plt.bar(v.index,v.values,width=0.5,color='b',align='center')\n",
    "        plt.show()\n",
    "        df_measures[['y_pred','y_test']].boxplot(by = 'y_test', figsize = (15,5))\n",
    "        plt.show()\n",
    "    return df_measures,mean_square_error,variance_score,rmse.mean()"
   ]
  },
  {
   "cell_type": "code",
   "execution_count": 10,
   "metadata": {},
   "outputs": [],
   "source": [
    "from sklearn.model_selection import StratifiedKFold, KFold\n",
    "from copy import deepcopy\n",
    "def cross_validation_fitting_performance(reg, df, y,reg_name=\"\", use_poly=False, oversample=True):\n",
    "    skf = StratifiedKFold(n_splits=10,random_state=42, shuffle =True)\n",
    "    skf.get_n_splits(df, y)\n",
    "\n",
    "    performace_results = np.array([])\n",
    "    y_pred_y_test_list = list()\n",
    "    reg_list = list()\n",
    "    for train_index, test_index in skf.split(df, y):\n",
    "        #print(\"TRAIN:\", train_index, \"TEST:\", test_index)\n",
    "        df_train, df_test = df.loc[train_index], df.loc[test_index]\n",
    "        \n",
    "        if oversample:\n",
    "            df_train = oversampling(df_train).copy()\n",
    "            #print(format(df_train[output].value_counts()))\n",
    "        else:\n",
    "            pass\n",
    "        \n",
    "        X_train, y_train = df_train[model_features], df_train[output]\n",
    "        X_test, y_test = df_test[model_features], df_test[output]\n",
    "\n",
    "        if use_poly:\n",
    "            X_train = poly.fit_transform(X_train)\n",
    "            X_test = poly.transform(X_test)\n",
    "\n",
    "        reg.fit(X_train,y_train)\n",
    "        y_pred = reg.predict(X_test)\n",
    "        \n",
    "        y_pred_y_test_list.append(deepcopy((y_pred,y_test)))\n",
    "        reg_list.append(deepcopy(reg))\n",
    "        df_measures,mean_square_error,variance_score, rmse = performance_validation(y_pred, y_test, print_graph = False)\n",
    "        if len(performace_results):\n",
    "            performace_results = np.concatenate((performace_results, np.array([[mean_square_error,variance_score,rmse]])))\n",
    "        else: \n",
    "            performace_results = np.array([[mean_square_error,variance_score,rmse]])\n",
    "            \n",
    "    res = tuple(performace_results.mean(0))\n",
    "    t=(reg_name, )+res\n",
    "    print(t)\n",
    "    if reg_name == \"\":\n",
    "        print (\"%s : %.2f , %.2f, %.2f\" % t)\n",
    "    else:\n",
    "        print (\"%s : %.2f , %.2f, %.2f\" % t)\n",
    "    return y_pred_y_test_list, reg_list"
   ]
  },
  {
   "cell_type": "markdown",
   "metadata": {},
   "source": [
    "### Simple regression for baseline performance"
   ]
  },
  {
   "cell_type": "code",
   "execution_count": 10,
   "metadata": {},
   "outputs": [
    {
     "name": "stderr",
     "output_type": "stream",
     "text": [
      "C:\\Users\\Mariana\\Anaconda3\\lib\\site-packages\\sklearn\\model_selection\\_split.py:605: Warning: The least populated class in y has only 5 members, which is too few. The minimum number of members in any class cannot be less than n_splits=10.\n",
      "  % (min_groups, self.n_splits)), Warning)\n"
     ]
    },
    {
     "name": "stdout",
     "output_type": "stream",
     "text": [
      "Mean squared error, Variance Score, RMSE: 0.53 0.30 1.24\n",
      "Mean squared error, Variance Score, RMSE: 0.52 0.33 1.46\n",
      "Mean squared error, Variance Score, RMSE: 0.54 0.29 1.27\n",
      "Mean squared error, Variance Score, RMSE: 0.56 0.27 1.64\n",
      "Mean squared error, Variance Score, RMSE: 0.55 0.27 1.29\n",
      "Mean squared error, Variance Score, RMSE: 0.55 0.29 1.41\n",
      "Mean squared error, Variance Score, RMSE: 0.51 0.32 1.22\n",
      "Mean squared error, Variance Score, RMSE: 0.57 0.26 1.46\n",
      "Mean squared error, Variance Score, RMSE: 0.53 0.31 1.47\n",
      "Mean squared error, Variance Score, RMSE: 0.56 0.25 1.37\n",
      "('Linear', 0.542605065543119, 0.288238398581005, 1.385110423608439)\n",
      "Linear : 0.54 , 0.29, 1.39\n",
      "\n"
     ]
    }
   ],
   "source": [
    "y_pred_y_test_dic={}\n",
    "reg_dic = {}\n",
    "filtered_regressors = {k:v for (k,v) in regressors.items() if \"Linear\" == k}\n",
    "for name in filtered_regressors:\n",
    "    df, y = df,df[output]\n",
    "    #X,y = df_poly,df[output].values\n",
    "    y_pred_y_test_dic[name], reg_dic[name] = cross_validation_fitting_performance(\n",
    "        regressors[name], df,y,name, use_poly = False, oversample = False)\n",
    "    print()"
   ]
  },
  {
   "cell_type": "code",
   "execution_count": 13,
   "metadata": {},
   "outputs": [
    {
     "name": "stdout",
     "output_type": "stream",
     "text": [
      "Mean squared error, Variance Score, RMSE: 0.56 0.27 1.64\n"
     ]
    },
    {
     "data": {
      "image/png": "[encoded data removed]",
      "text/plain": [
       "<Figure size 1080x360 with 3 Axes>"
      ]
     },
     "metadata": {},
     "output_type": "display_data"
    },
    {
     "data": {
      "image/png": "[encoded data removed]",
      "text/plain": [
       "<Figure size 1080x360 with 1 Axes>"
      ]
     },
     "metadata": {},
     "output_type": "display_data"
    }
   ],
   "source": [
    "# print performance assessment\n",
    "df_measures,mean_square_error,variance_score, rmse=performance_validation(*y_pred_y_test_dic['Linear'][3])"
   ]
  },
  {
   "cell_type": "code",
   "execution_count": 14,
   "metadata": {},
   "outputs": [
    {
     "data": {
      "image/png": "[encoded data removed]",
      "text/plain": [
       "<Figure size 1080x360 with 1 Axes>"
      ]
     },
     "metadata": {},
     "output_type": "display_data"
    }
   ],
   "source": [
    "reg = reg_dic[\"Linear\"][1]\n",
    "df_coeff =pd.DataFrame(reg.coef_,index=model_features)\n",
    "df_coeff.plot(kind='bar', figsize = (15,5))\n",
    "plt.show()"
   ]
  },
  {
   "cell_type": "markdown",
   "metadata": {},
   "source": [
    "### Using polynomial features, balanced sampling and Stratifyed K-fold Cross Validation, for several techniques. "
   ]
  },
  {
   "cell_type": "code",
   "execution_count": 11,
   "metadata": {},
   "outputs": [
    {
     "name": "stderr",
     "output_type": "stream",
     "text": [
      "C:\\Users\\Mariana\\Anaconda3\\lib\\site-packages\\sklearn\\model_selection\\_split.py:605: Warning: The least populated class in y has only 5 members, which is too few. The minimum number of members in any class cannot be less than n_splits=10.\n",
      "  % (min_groups, self.n_splits)), Warning)\n"
     ]
    },
    {
     "name": "stdout",
     "output_type": "stream",
     "text": [
      "Mean squared error, Variance Score, RMSE: 0.63 0.17 1.24\n",
      "Mean squared error, Variance Score, RMSE: 0.60 0.23 1.46\n",
      "Mean squared error, Variance Score, RMSE: 0.68 0.11 1.31\n",
      "Mean squared error, Variance Score, RMSE: 0.70 0.09 1.69\n",
      "Mean squared error, Variance Score, RMSE: 0.67 0.11 1.33\n",
      "Mean squared error, Variance Score, RMSE: 0.65 0.15 1.40\n",
      "Mean squared error, Variance Score, RMSE: 0.67 0.11 1.46\n",
      "Mean squared error, Variance Score, RMSE: 0.69 0.10 1.41\n",
      "Mean squared error, Variance Score, RMSE: 0.60 0.21 1.41\n",
      "Mean squared error, Variance Score, RMSE: 0.80 -0.07 1.93\n",
      "('Lasso', 0.6690891994429535, 0.12192560002264152, 1.4634521575359747)\n",
      "Lasso : 0.67 , 0.12, 1.46\n",
      "\n",
      "Mean squared error, Variance Score, RMSE: 0.40 0.47 1.09\n",
      "Mean squared error, Variance Score, RMSE: 0.39 0.50 1.24\n",
      "Mean squared error, Variance Score, RMSE: 0.46 0.40 1.16\n",
      "Mean squared error, Variance Score, RMSE: 0.40 0.49 1.43\n",
      "Mean squared error, Variance Score, RMSE: 0.39 0.49 1.03\n",
      "Mean squared error, Variance Score, RMSE: 0.40 0.48 1.10\n",
      "Mean squared error, Variance Score, RMSE: 0.38 0.49 1.09\n",
      "Mean squared error, Variance Score, RMSE: 0.44 0.42 1.29\n",
      "Mean squared error, Variance Score, RMSE: 0.43 0.43 1.33\n",
      "Mean squared error, Variance Score, RMSE: 0.39 0.48 1.11\n",
      "('Gradient Boosting 12.00', 0.4076777908714437, 0.4653297161755803, 1.1878459295229082)\n",
      "Gradient Boosting 12.00 : 0.41 , 0.47, 1.19\n",
      "\n"
     ]
    }
   ],
   "source": [
    "y_pred_y_test_dic={}\n",
    "reg={}\n",
    "filtered_regressors = {k:v for (k,v) in regressors.items() if \"Linear\" != k}\n",
    "\n",
    "for name in filtered_regressors:\n",
    "    df, y = df,df[output]\n",
    "    #X,y = df_poly,df[output].values\n",
    "    y_pred_y_test_dic[name], reg[name]= cross_validation_fitting_performance(regressors[name], df,y,name, use_poly = True)\n",
    "    print()"
   ]
  },
  {
   "cell_type": "code",
   "execution_count": 12,
   "metadata": {},
   "outputs": [
    {
     "data": {
      "text/plain": [
       "dict_keys(['Lasso', 'Gradient Boosting 12.00'])"
      ]
     },
     "execution_count": 12,
     "metadata": {},
     "output_type": "execute_result"
    }
   ],
   "source": [
    "y_pred_y_test_dic.keys()"
   ]
  },
  {
   "cell_type": "code",
   "execution_count": 20,
   "metadata": {},
   "outputs": [
    {
     "name": "stdout",
     "output_type": "stream",
     "text": [
      "Mean squared error, Variance Score, RMSE: 0.40 0.48 1.10\n"
     ]
    },
    {
     "data": {
      "image/png": "[encoded data removed]",
      "text/plain": [
       "<Figure size 1080x360 with 3 Axes>"
      ]
     },
     "metadata": {},
     "output_type": "display_data"
    },
    {
     "data": {
      "image/png": "[encoded data removed]",
      "text/plain": [
       "<Figure size 1080x360 with 1 Axes>"
      ]
     },
     "metadata": {},
     "output_type": "display_data"
    }
   ],
   "source": [
    "df_measures,mean_square_error,variance_score, rmse=performance_validation(*y_pred_y_test_dic['Gradient Boosting 12.00'][5])"
   ]
  },
  {
   "cell_type": "code",
   "execution_count": 22,
   "metadata": {},
   "outputs": [
    {
     "data": {
      "text/plain": [
       "['wine_quality_model.pkl']"
      ]
     },
     "execution_count": 22,
     "metadata": {},
     "output_type": "execute_result"
    }
   ],
   "source": [
    "#Final model \"Gradient Boosting\" presents better performance\n",
    "#Gradient Boosting : 0.68 , 0.11, 1.22\n",
    "\n",
    "y_pred_y_test_dic={}\n",
    "reg = regressors['Gradient Boosting 12.00']\n",
    "\n",
    "df_train = oversampling(df).copy()\n",
    "X_train, y_train = df_train[model_features], df_train[output]\n",
    "X_train = poly.fit_transform(X_train)\n",
    "reg.fit(X_train,y_train)\n",
    "\n",
    "from sklearn.externals import joblib\n",
    "joblib.dump(reg, 'wine_quality_model.pkl')"
   ]
  }
 ],
 "metadata": {
  "kernelspec": {
   "display_name": "Python 3",
   "language": "python",
   "name": "python3"
  },
  "language_info": {
   "codemirror_mode": {
    "name": "ipython",
    "version": 3
   },
   "file_extension": ".py",
   "mimetype": "text/x-python",
   "name": "python",
   "nbconvert_exporter": "python",
   "pygments_lexer": "ipython3",
   "version": "3.6.5"
  }
 },
 "nbformat": 4,
 "nbformat_minor": 2
}
